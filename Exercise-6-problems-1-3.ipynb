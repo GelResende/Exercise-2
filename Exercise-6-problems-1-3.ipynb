{
  "nbformat": 4,
  "nbformat_minor": 0,
  "metadata": {
    "kernelspec": {
      "display_name": "Python 3",
      "language": "python",
      "name": "python3"
    },
    "language_info": {
      "codemirror_mode": {
        "name": "ipython",
        "version": 3
      },
      "file_extension": ".py",
      "mimetype": "text/x-python",
      "name": "python",
      "nbconvert_exporter": "python",
      "pygments_lexer": "ipython3",
      "version": "3.7.4"
    },
    "colab": {
      "name": "Exercise-6-problems-1-3.ipynb",
      "provenance": []
    }
  },
  "cells": [
    {
      "cell_type": "markdown",
      "metadata": {
        "deletable": false,
        "editable": false,
        "nbgrader": {
          "cell_type": "markdown",
          "checksum": "746cd949432573377f05b1cc27fab570",
          "grade": false,
          "grade_id": "cell-f2d00c67ecd9e7dc",
          "locked": true,
          "schema_version": 3,
          "solution": false
        },
        "id": "m7jr4HNT8Ru7"
      },
      "source": [
        "# Exercise 6: Weather anomalies (*10 points*)\n",
        "\n",
        "The aim of this exercise is to analyze historical weather data. In Problem 1 you read in a tricky data file and explore it's contents. In problem 2, you will convert and aggregate the data from daily temperatures in Fahrenheit, to monthly average temperatures in Celsius. In Problem 3, you will finally analyze weather anomalies by comparing monthly average temperatures to a long-term average.\n",
        "\n",
        "**Notice**: Closely follow the instructions! Please use **exactly** the same variable names mentioned in the instructions because your answers will be automatically graded, and the tests that grade your answers rely on following the given variable naming. Also, please do not copy/paste existing code cells. You can add cells if you like, but copying and pasting can also cause the automatic tests to fail.\n",
        "\n",
        "\n",
        "## Problem 1 - Reading in a tricky data file (*2 points*)\n",
        "\n",
        "You first task for this exercise is to read in the data file [data/1091402.txt](data/1091402.txt) to a variable called `data`. Pay attention to the input data structure and no data values.\n",
        "\n",
        "**Your score on this problem will be based on following criteria:**\n",
        "\n",
        "- Reading the data into a variable called `data` using Pandas\n",
        "    - Skipping the second row of the datafile that contains `----------` characters that don't belong to the data\n",
        "    - Convert the no-data values (`-9999`) into `NaN` \n",
        "- Calculating basic statistics from the data\n",
        "- Including comments that explain what most lines in the code do"
      ]
    },
    {
      "cell_type": "markdown",
      "metadata": {
        "deletable": false,
        "editable": false,
        "nbgrader": {
          "cell_type": "markdown",
          "checksum": "2709031d118f54aa5f3c4b75e2691265",
          "grade": false,
          "grade_id": "cell-52cc9f4650eada57",
          "locked": true,
          "schema_version": 3,
          "solution": false
        },
        "id": "SLSiwNaQ8Ru9"
      },
      "source": [
        "### Part 1 (*1 point*)\n",
        "\n",
        "You should start by reading the data file.\n",
        "\n",
        "- Read the data file into variable the variable `data`\n",
        "    - Skip the second row\n",
        "    - Convert the no-data values (`-9999`) into `NaN`"
      ]
    },
    {
      "cell_type": "code",
      "metadata": {
        "deletable": false,
        "nbgrader": {
          "cell_type": "code",
          "checksum": "0a59ed215aad4b3d7b0268cbe2f44006",
          "grade": false,
          "grade_id": "problem_1_ag_p1_read_file",
          "locked": false,
          "schema_version": 3,
          "solution": true
        },
        "id": "koIJWQdI8Ru-"
      },
      "source": [
        "# Calling the pandas package as pd\n",
        "import pandas as pd\n",
        "\n",
        "# Defining relative path to the file\n",
        "fp = r'data/1091402.txt'\n",
        "\n",
        "# Read data using varying amount of spaces as separator and specifying -9999 characters as NoData values\n",
        "# and skipping the second row\n",
        "data = pd.read_csv(fp, delim_whitespace=True, na_values=['-9999'], skiprows=[1])"
      ],
      "execution_count": 25,
      "outputs": []
    },
    {
      "cell_type": "code",
      "metadata": {
        "deletable": false,
        "editable": false,
        "nbgrader": {
          "cell_type": "code",
          "checksum": "4f2d002e5558bd4102cb11bd7a92436a",
          "grade": true,
          "grade_id": "problem_1_ag_p1_read_file_tests1",
          "locked": true,
          "points": 0.5,
          "schema_version": 3,
          "solution": false
        },
        "colab": {
          "base_uri": "https://localhost:8080/",
          "height": 204
        },
        "id": "NUunmmMu8Ru-",
        "outputId": "e2218f35-7af1-48ea-ebf6-27eeb5c73df5"
      },
      "source": [
        "# Check that the dataframe looks ok:\n",
        "data.head()"
      ],
      "execution_count": 3,
      "outputs": [
        {
          "output_type": "execute_result",
          "data": {
            "text/html": [
              "<div>\n",
              "<style scoped>\n",
              "    .dataframe tbody tr th:only-of-type {\n",
              "        vertical-align: middle;\n",
              "    }\n",
              "\n",
              "    .dataframe tbody tr th {\n",
              "        vertical-align: top;\n",
              "    }\n",
              "\n",
              "    .dataframe thead th {\n",
              "        text-align: right;\n",
              "    }\n",
              "</style>\n",
              "<table border=\"1\" class=\"dataframe\">\n",
              "  <thead>\n",
              "    <tr style=\"text-align: right;\">\n",
              "      <th></th>\n",
              "      <th>STATION</th>\n",
              "      <th>ELEVATION</th>\n",
              "      <th>LATITUDE</th>\n",
              "      <th>LONGITUDE</th>\n",
              "      <th>DATE</th>\n",
              "      <th>PRCP</th>\n",
              "      <th>TAVG</th>\n",
              "      <th>TMAX</th>\n",
              "      <th>TMIN</th>\n",
              "    </tr>\n",
              "  </thead>\n",
              "  <tbody>\n",
              "    <tr>\n",
              "      <th>0</th>\n",
              "      <td>GHCND:FIE00142080</td>\n",
              "      <td>51</td>\n",
              "      <td>60.3269</td>\n",
              "      <td>24.9603</td>\n",
              "      <td>19520101</td>\n",
              "      <td>0.31</td>\n",
              "      <td>37.0</td>\n",
              "      <td>39.0</td>\n",
              "      <td>34.0</td>\n",
              "    </tr>\n",
              "    <tr>\n",
              "      <th>1</th>\n",
              "      <td>GHCND:FIE00142080</td>\n",
              "      <td>51</td>\n",
              "      <td>60.3269</td>\n",
              "      <td>24.9603</td>\n",
              "      <td>19520102</td>\n",
              "      <td>NaN</td>\n",
              "      <td>35.0</td>\n",
              "      <td>37.0</td>\n",
              "      <td>34.0</td>\n",
              "    </tr>\n",
              "    <tr>\n",
              "      <th>2</th>\n",
              "      <td>GHCND:FIE00142080</td>\n",
              "      <td>51</td>\n",
              "      <td>60.3269</td>\n",
              "      <td>24.9603</td>\n",
              "      <td>19520103</td>\n",
              "      <td>0.14</td>\n",
              "      <td>33.0</td>\n",
              "      <td>36.0</td>\n",
              "      <td>NaN</td>\n",
              "    </tr>\n",
              "    <tr>\n",
              "      <th>3</th>\n",
              "      <td>GHCND:FIE00142080</td>\n",
              "      <td>51</td>\n",
              "      <td>60.3269</td>\n",
              "      <td>24.9603</td>\n",
              "      <td>19520104</td>\n",
              "      <td>0.05</td>\n",
              "      <td>29.0</td>\n",
              "      <td>30.0</td>\n",
              "      <td>25.0</td>\n",
              "    </tr>\n",
              "    <tr>\n",
              "      <th>4</th>\n",
              "      <td>GHCND:FIE00142080</td>\n",
              "      <td>51</td>\n",
              "      <td>60.3269</td>\n",
              "      <td>24.9603</td>\n",
              "      <td>19520105</td>\n",
              "      <td>0.06</td>\n",
              "      <td>27.0</td>\n",
              "      <td>30.0</td>\n",
              "      <td>25.0</td>\n",
              "    </tr>\n",
              "  </tbody>\n",
              "</table>\n",
              "</div>"
            ],
            "text/plain": [
              "             STATION  ELEVATION  LATITUDE  LONGITUDE  ...  PRCP  TAVG  TMAX  TMIN\n",
              "0  GHCND:FIE00142080         51   60.3269    24.9603  ...  0.31  37.0  39.0  34.0\n",
              "1  GHCND:FIE00142080         51   60.3269    24.9603  ...   NaN  35.0  37.0  34.0\n",
              "2  GHCND:FIE00142080         51   60.3269    24.9603  ...  0.14  33.0  36.0   NaN\n",
              "3  GHCND:FIE00142080         51   60.3269    24.9603  ...  0.05  29.0  30.0  25.0\n",
              "4  GHCND:FIE00142080         51   60.3269    24.9603  ...  0.06  27.0  30.0  25.0\n",
              "\n",
              "[5 rows x 9 columns]"
            ]
          },
          "metadata": {
            "tags": []
          },
          "execution_count": 3
        }
      ]
    },
    {
      "cell_type": "code",
      "metadata": {
        "deletable": false,
        "editable": false,
        "nbgrader": {
          "cell_type": "code",
          "checksum": "4085783ee6c0b8ce20df6135dbd3918a",
          "grade": true,
          "grade_id": "problem_1_ag_p1_read_file_tests2",
          "locked": true,
          "points": 0.5,
          "schema_version": 3,
          "solution": false
        },
        "colab": {
          "base_uri": "https://localhost:8080/",
          "height": 204
        },
        "id": "Y4Y8BEYU8Ru_",
        "outputId": "a8a34167-1704-4884-de28-c43d6a3ef2fd"
      },
      "source": [
        "# Check the last rows of the data (there should be some NaN values)\n",
        "data.tail()"
      ],
      "execution_count": 4,
      "outputs": [
        {
          "output_type": "execute_result",
          "data": {
            "text/html": [
              "<div>\n",
              "<style scoped>\n",
              "    .dataframe tbody tr th:only-of-type {\n",
              "        vertical-align: middle;\n",
              "    }\n",
              "\n",
              "    .dataframe tbody tr th {\n",
              "        vertical-align: top;\n",
              "    }\n",
              "\n",
              "    .dataframe thead th {\n",
              "        text-align: right;\n",
              "    }\n",
              "</style>\n",
              "<table border=\"1\" class=\"dataframe\">\n",
              "  <thead>\n",
              "    <tr style=\"text-align: right;\">\n",
              "      <th></th>\n",
              "      <th>STATION</th>\n",
              "      <th>ELEVATION</th>\n",
              "      <th>LATITUDE</th>\n",
              "      <th>LONGITUDE</th>\n",
              "      <th>DATE</th>\n",
              "      <th>PRCP</th>\n",
              "      <th>TAVG</th>\n",
              "      <th>TMAX</th>\n",
              "      <th>TMIN</th>\n",
              "    </tr>\n",
              "  </thead>\n",
              "  <tbody>\n",
              "    <tr>\n",
              "      <th>23711</th>\n",
              "      <td>GHCND:FIE00142080</td>\n",
              "      <td>51</td>\n",
              "      <td>60.3269</td>\n",
              "      <td>24.9603</td>\n",
              "      <td>20170930</td>\n",
              "      <td>NaN</td>\n",
              "      <td>47.0</td>\n",
              "      <td>49.0</td>\n",
              "      <td>44.0</td>\n",
              "    </tr>\n",
              "    <tr>\n",
              "      <th>23712</th>\n",
              "      <td>GHCND:FIE00142080</td>\n",
              "      <td>51</td>\n",
              "      <td>60.3269</td>\n",
              "      <td>24.9603</td>\n",
              "      <td>20171001</td>\n",
              "      <td>0.04</td>\n",
              "      <td>47.0</td>\n",
              "      <td>48.0</td>\n",
              "      <td>45.0</td>\n",
              "    </tr>\n",
              "    <tr>\n",
              "      <th>23713</th>\n",
              "      <td>GHCND:FIE00142080</td>\n",
              "      <td>51</td>\n",
              "      <td>60.3269</td>\n",
              "      <td>24.9603</td>\n",
              "      <td>20171002</td>\n",
              "      <td>NaN</td>\n",
              "      <td>47.0</td>\n",
              "      <td>49.0</td>\n",
              "      <td>46.0</td>\n",
              "    </tr>\n",
              "    <tr>\n",
              "      <th>23714</th>\n",
              "      <td>GHCND:FIE00142080</td>\n",
              "      <td>51</td>\n",
              "      <td>60.3269</td>\n",
              "      <td>24.9603</td>\n",
              "      <td>20171003</td>\n",
              "      <td>0.94</td>\n",
              "      <td>47.0</td>\n",
              "      <td>NaN</td>\n",
              "      <td>44.0</td>\n",
              "    </tr>\n",
              "    <tr>\n",
              "      <th>23715</th>\n",
              "      <td>GHCND:FIE00142080</td>\n",
              "      <td>51</td>\n",
              "      <td>60.3269</td>\n",
              "      <td>24.9603</td>\n",
              "      <td>20171004</td>\n",
              "      <td>0.51</td>\n",
              "      <td>52.0</td>\n",
              "      <td>56.0</td>\n",
              "      <td>NaN</td>\n",
              "    </tr>\n",
              "  </tbody>\n",
              "</table>\n",
              "</div>"
            ],
            "text/plain": [
              "                 STATION  ELEVATION  LATITUDE  ...  TAVG  TMAX  TMIN\n",
              "23711  GHCND:FIE00142080         51   60.3269  ...  47.0  49.0  44.0\n",
              "23712  GHCND:FIE00142080         51   60.3269  ...  47.0  48.0  45.0\n",
              "23713  GHCND:FIE00142080         51   60.3269  ...  47.0  49.0  46.0\n",
              "23714  GHCND:FIE00142080         51   60.3269  ...  47.0   NaN  44.0\n",
              "23715  GHCND:FIE00142080         51   60.3269  ...  52.0  56.0   NaN\n",
              "\n",
              "[5 rows x 9 columns]"
            ]
          },
          "metadata": {
            "tags": []
          },
          "execution_count": 4
        }
      ]
    },
    {
      "cell_type": "markdown",
      "metadata": {
        "deletable": false,
        "editable": false,
        "nbgrader": {
          "cell_type": "markdown",
          "checksum": "1751d52789be8bc43aeaf37bcbf38bbd",
          "grade": false,
          "grade_id": "cell-7f848d5f8acf3a0f",
          "locked": true,
          "schema_version": 3,
          "solution": false
        },
        "id": "doOUgHEe8Ru_"
      },
      "source": [
        "### Part 2 (*1 point*)\n",
        "\n",
        "In this section, you will calculate simple statistics based on the input data:\n",
        "\n",
        "- Calculate how many no-data (NaN) values there are in the `TAVG` column\n",
        "    - Assign your answer to a variable called `tavg_nodata_count`."
      ]
    },
    {
      "cell_type": "code",
      "metadata": {
        "deletable": false,
        "nbgrader": {
          "cell_type": "code",
          "checksum": "b316576ac0b2a9eb31862457bd43ea3a",
          "grade": false,
          "grade_id": "problem_1_ag_p2_tavg_nodata_count",
          "locked": false,
          "schema_version": 3,
          "solution": true
        },
        "id": "K8CsQHpD8Ru_"
      },
      "source": [
        "# Calculating NaN values in the TAVG column\n",
        "tavg_nodata_count = data['TAVG'].isna().sum()"
      ],
      "execution_count": 5,
      "outputs": []
    },
    {
      "cell_type": "code",
      "metadata": {
        "deletable": false,
        "editable": false,
        "nbgrader": {
          "cell_type": "code",
          "checksum": "08597dcacba7264c3efbbad69e375861",
          "grade": true,
          "grade_id": "problem_1_ag_p2_tavg_nodata_count_test1",
          "locked": true,
          "points": 0.2,
          "schema_version": 3,
          "solution": false
        },
        "colab": {
          "base_uri": "https://localhost:8080/"
        },
        "id": "sqzSJHsT8RvA",
        "outputId": "22776b79-6281-4f44-dcfe-dea10817ee8a"
      },
      "source": [
        "# Print out the solution:\n",
        "print('Number of no-data values in column \"TAVG\":',tavg_nodata_count)"
      ],
      "execution_count": 6,
      "outputs": [
        {
          "output_type": "stream",
          "text": [
            "Number of no-data values in column \"TAVG\": 3308\n"
          ],
          "name": "stdout"
        }
      ]
    },
    {
      "cell_type": "markdown",
      "metadata": {
        "deletable": false,
        "editable": false,
        "nbgrader": {
          "cell_type": "markdown",
          "checksum": "55529fa822f09b326b39216eedf07783",
          "grade": false,
          "grade_id": "cell-600c96096b421522",
          "locked": true,
          "schema_version": 3,
          "solution": false
        },
        "id": "No1KRi_n8RvA"
      },
      "source": [
        "- Calculate how many no-data (NaN) values there are for the `TMIN` column\n",
        "    - Assign your answer into a variable called `tmin_nodata_count`"
      ]
    },
    {
      "cell_type": "code",
      "metadata": {
        "deletable": false,
        "nbgrader": {
          "cell_type": "code",
          "checksum": "7a9fa44d3a594ef3ace6df51941fe466",
          "grade": false,
          "grade_id": "problem_1_ag_p2_tmin_nodata_count",
          "locked": false,
          "schema_version": 3,
          "solution": true
        },
        "id": "6H9JpaCf8RvA"
      },
      "source": [
        "# Counting NaN values in TMIN column\n",
        "tmin_nodata_count = data['TMIN'].isna().sum()"
      ],
      "execution_count": 7,
      "outputs": []
    },
    {
      "cell_type": "code",
      "metadata": {
        "deletable": false,
        "editable": false,
        "nbgrader": {
          "cell_type": "code",
          "checksum": "5ddec1de1c0a27b6324dc197df395f6d",
          "grade": true,
          "grade_id": "problem_1_tmin_nodata_count_test1",
          "locked": true,
          "points": 0.2,
          "schema_version": 3,
          "solution": false
        },
        "colab": {
          "base_uri": "https://localhost:8080/"
        },
        "id": "fQF7JOvd8RvA",
        "outputId": "7ff4d3be-1d7a-4744-e7b2-a17c2d71de88"
      },
      "source": [
        "# Print out the solution:\n",
        "print('Number of no-data values in column \"TMIN\":', tmin_nodata_count)"
      ],
      "execution_count": 8,
      "outputs": [
        {
          "output_type": "stream",
          "text": [
            "Number of no-data values in column \"TMIN\": 365\n"
          ],
          "name": "stdout"
        }
      ]
    },
    {
      "cell_type": "markdown",
      "metadata": {
        "deletable": false,
        "editable": false,
        "nbgrader": {
          "cell_type": "markdown",
          "checksum": "908ddb381122ee0dcfaef62e3d3b8173",
          "grade": false,
          "grade_id": "cell-25998b4f0d14e8f0",
          "locked": true,
          "schema_version": 3,
          "solution": false
        },
        "id": "SQKhuooD8RvB"
      },
      "source": [
        "- Calculate the total number of days covered by this data file\n",
        "    - Assign your answer into a variable called `day_count`"
      ]
    },
    {
      "cell_type": "code",
      "metadata": {
        "colab": {
          "base_uri": "https://localhost:8080/"
        },
        "id": "5ffOT5L19lhx",
        "outputId": "4651d44e-ec44-41e1-c27e-410b9c347c60"
      },
      "source": [
        "data.columns"
      ],
      "execution_count": 9,
      "outputs": [
        {
          "output_type": "execute_result",
          "data": {
            "text/plain": [
              "Index(['STATION', 'ELEVATION', 'LATITUDE', 'LONGITUDE', 'DATE', 'PRCP', 'TAVG',\n",
              "       'TMAX', 'TMIN'],\n",
              "      dtype='object')"
            ]
          },
          "metadata": {
            "tags": []
          },
          "execution_count": 9
        }
      ]
    },
    {
      "cell_type": "code",
      "metadata": {
        "deletable": false,
        "nbgrader": {
          "cell_type": "code",
          "checksum": "ca6edbcd87bea7b709530ac6e1b9971f",
          "grade": false,
          "grade_id": "problem_1_ag_p2_day_count",
          "locked": false,
          "schema_version": 3,
          "solution": true
        },
        "id": "UEaQgRvJ8RvB"
      },
      "source": [
        "# Counting the total number of days covered by this data file\n",
        "day_count = data['DATE'].nunique()"
      ],
      "execution_count": 10,
      "outputs": []
    },
    {
      "cell_type": "code",
      "metadata": {
        "deletable": false,
        "editable": false,
        "nbgrader": {
          "cell_type": "code",
          "checksum": "b74908e2bc073dacce9d4313850e7b84",
          "grade": true,
          "grade_id": "problem_1_ag_p2_day_count_test1",
          "locked": true,
          "points": 0.1,
          "schema_version": 3,
          "solution": false
        },
        "colab": {
          "base_uri": "https://localhost:8080/"
        },
        "id": "jFzos_zp8RvB",
        "outputId": "e7fb21ff-a32d-4e4d-ab9a-c36e77786da2"
      },
      "source": [
        "# Print out the solution:\n",
        "print(\"Number of days:\", day_count)"
      ],
      "execution_count": 11,
      "outputs": [
        {
          "output_type": "stream",
          "text": [
            "Number of days: 23716\n"
          ],
          "name": "stdout"
        }
      ]
    },
    {
      "cell_type": "markdown",
      "metadata": {
        "deletable": false,
        "editable": false,
        "nbgrader": {
          "cell_type": "markdown",
          "checksum": "9cad6f0caab2312ddba764c48fe512cf",
          "grade": false,
          "grade_id": "cell-424dcdef3dde1b89",
          "locked": true,
          "schema_version": 3,
          "solution": false
        },
        "id": "CIj5Ga2R8RvB"
      },
      "source": [
        "- Find the date of the oldest (first) observation\n",
        "    - Assign your answer into a variable called `first_obs`"
      ]
    },
    {
      "cell_type": "code",
      "metadata": {
        "deletable": false,
        "nbgrader": {
          "cell_type": "code",
          "checksum": "d4426e2e973fdcb77308e7f21db7d078",
          "grade": false,
          "grade_id": "problem_1_ag_p2_first_observation",
          "locked": false,
          "schema_version": 3,
          "solution": true
        },
        "id": "SzswJwNP8RvC"
      },
      "source": [
        "# Finding the date of the oldest observation\n",
        "first_obs = data['DATE'].min()"
      ],
      "execution_count": 12,
      "outputs": []
    },
    {
      "cell_type": "code",
      "metadata": {
        "deletable": false,
        "editable": false,
        "nbgrader": {
          "cell_type": "code",
          "checksum": "d353c2124b023407b92800ad84802cff",
          "grade": true,
          "grade_id": "problem_1_ag_p2_first_observation_test1",
          "locked": true,
          "points": 0.1,
          "schema_version": 3,
          "solution": false
        },
        "colab": {
          "base_uri": "https://localhost:8080/"
        },
        "id": "kh_qcZY78RvC",
        "outputId": "85200e0b-19ff-446f-ca02-d7184a029783"
      },
      "source": [
        "# Print out the solution:\n",
        "print('Date of the first observation:',first_obs)"
      ],
      "execution_count": 13,
      "outputs": [
        {
          "output_type": "stream",
          "text": [
            "Date of the first observation: 19520101\n"
          ],
          "name": "stdout"
        }
      ]
    },
    {
      "cell_type": "markdown",
      "metadata": {
        "deletable": false,
        "editable": false,
        "nbgrader": {
          "cell_type": "markdown",
          "checksum": "79af6f07754be8b7f201fef854f0c911",
          "grade": false,
          "grade_id": "cell-1a9a82e0f837ac34",
          "locked": true,
          "schema_version": 3,
          "solution": false
        },
        "id": "3xwdKMtX8RvC"
      },
      "source": [
        "- Find the date of the most recent (last) observation\n",
        "    - Assign your answer into a variable called `last_obs`"
      ]
    },
    {
      "cell_type": "code",
      "metadata": {
        "deletable": false,
        "nbgrader": {
          "cell_type": "code",
          "checksum": "131399671973a4a7927d73bd58846be2",
          "grade": false,
          "grade_id": "problem_1_ag_p2_last_observation",
          "locked": false,
          "schema_version": 3,
          "solution": true
        },
        "id": "WG8AiAmq8RvC"
      },
      "source": [
        "# Finding the date of the newest observation\n",
        "last_obs = data['DATE'].max()"
      ],
      "execution_count": 14,
      "outputs": []
    },
    {
      "cell_type": "code",
      "metadata": {
        "deletable": false,
        "editable": false,
        "nbgrader": {
          "cell_type": "code",
          "checksum": "1c0b91a9681d2197d5d7b00072f3cfed",
          "grade": true,
          "grade_id": "problem_1_ag_p2_last_observation_test1",
          "locked": true,
          "points": 0.1,
          "schema_version": 3,
          "solution": false
        },
        "colab": {
          "base_uri": "https://localhost:8080/"
        },
        "id": "ktPQv9BG8RvD",
        "outputId": "3cee89c9-959e-458d-a46d-6775647bfcef"
      },
      "source": [
        "# Print out the solution:\n",
        "print('Date of the last observation:', last_obs)\n"
      ],
      "execution_count": 15,
      "outputs": [
        {
          "output_type": "stream",
          "text": [
            "Date of the last observation: 20171004\n"
          ],
          "name": "stdout"
        }
      ]
    },
    {
      "cell_type": "markdown",
      "metadata": {
        "deletable": false,
        "editable": false,
        "nbgrader": {
          "cell_type": "markdown",
          "checksum": "131ae54b07359d9ce8453074f0106fc2",
          "grade": false,
          "grade_id": "cell-3fbd149c1e58a16c",
          "locked": true,
          "schema_version": 3,
          "solution": false
        },
        "id": "113d6DkT8RvD"
      },
      "source": [
        "- Find the average temperature for the whole data file (all observtions) from column `TAVG`\n",
        "    - Assign your answer into a variable called `avg_temp`"
      ]
    },
    {
      "cell_type": "code",
      "metadata": {
        "deletable": false,
        "nbgrader": {
          "cell_type": "code",
          "checksum": "f372edd8f4852af683211056c915e1ff",
          "grade": false,
          "grade_id": "problem_1_ag_p2_avg_temp",
          "locked": false,
          "schema_version": 3,
          "solution": true
        },
        "id": "0cpjnMQ58RvD"
      },
      "source": [
        "# Average temperature for the whole data file\n",
        "avg_temp = data['TAVG'].mean()"
      ],
      "execution_count": 16,
      "outputs": []
    },
    {
      "cell_type": "code",
      "metadata": {
        "deletable": false,
        "editable": false,
        "nbgrader": {
          "cell_type": "code",
          "checksum": "642da66112e5e57b2aa83f425fa45611",
          "grade": true,
          "grade_id": "problem_1_ag_p2_avg_temp_test1",
          "locked": true,
          "points": 0.1,
          "schema_version": 3,
          "solution": false
        },
        "colab": {
          "base_uri": "https://localhost:8080/"
        },
        "id": "Jh6iVUwl8RvD",
        "outputId": "9782c72c-4b6f-4ebc-9707-e4938e5f5961"
      },
      "source": [
        "# Print out the solution:\n",
        "print('Average temperature (F) for the whole dataset:', round(avg_temp, 2))"
      ],
      "execution_count": 17,
      "outputs": [
        {
          "output_type": "stream",
          "text": [
            "Average temperature (F) for the whole dataset: 41.32\n"
          ],
          "name": "stdout"
        }
      ]
    },
    {
      "cell_type": "markdown",
      "metadata": {
        "deletable": false,
        "editable": false,
        "nbgrader": {
          "cell_type": "markdown",
          "checksum": "413f5bc8bb8db591d81ed1b76a04ae7f",
          "grade": false,
          "grade_id": "cell-784617d6edc656a6",
          "locked": true,
          "schema_version": 3,
          "solution": false
        },
        "id": "-6Tz0vUK8RvD"
      },
      "source": [
        "- Find the average `TMAX` temperature over the Summer of 1969 (months May, June, July, and August of the year 1969)\n",
        "    - Assign your answer into a variable called `avg_temp_1969`"
      ]
    },
    {
      "cell_type": "code",
      "metadata": {
        "deletable": false,
        "nbgrader": {
          "cell_type": "code",
          "checksum": "5fed5e4fc30ff7342e47f2830475fe18",
          "grade": false,
          "grade_id": "problem_1_ag_p2_avg_temp_69",
          "locked": false,
          "schema_version": 3,
          "solution": true
        },
        "id": "euHP2TCA8RvE"
      },
      "source": [
        "# Average TMAX over the Summer of 1969 (May, June, July, and August)\n",
        "avg_temp_1969 = data['TMAX'][data['DATE'].between(19690501,19690831)].mean()"
      ],
      "execution_count": 18,
      "outputs": []
    },
    {
      "cell_type": "code",
      "metadata": {
        "deletable": false,
        "editable": false,
        "nbgrader": {
          "cell_type": "code",
          "checksum": "4600ed753783e32e79cb133ad03452a2",
          "grade": true,
          "grade_id": "problem_1_ag_p2_avg_temp_69_test1",
          "locked": true,
          "points": 0.2,
          "schema_version": 3,
          "solution": false
        },
        "colab": {
          "base_uri": "https://localhost:8080/"
        },
        "id": "fiZkNQJt8RvE",
        "outputId": "f1b805d6-8786-472e-a2ff-032d99b50c0d"
      },
      "source": [
        "# This test print should print a number\n",
        "print('Average temperature (F) for the Summer of 69:', round(avg_temp_1969, 2))\n"
      ],
      "execution_count": 19,
      "outputs": [
        {
          "output_type": "stream",
          "text": [
            "Average temperature (F) for the Summer of 69: 67.82\n"
          ],
          "name": "stdout"
        }
      ]
    },
    {
      "cell_type": "markdown",
      "metadata": {
        "deletable": false,
        "editable": false,
        "nbgrader": {
          "cell_type": "markdown",
          "checksum": "4f9e6aa7392a7983102d6b5bd572cbdc",
          "grade": false,
          "grade_id": "cell-beeb38c1b8d3eb13",
          "locked": true,
          "schema_version": 3,
          "solution": false
        },
        "id": "kdspICVE8RvE"
      },
      "source": [
        "## Problem 2 - Calculating monthly average temperatures (*3 points*)\n",
        "\n",
        "For this problem your goal is to calculate monthly average temperatures in degrees Celsius from the daily Fahrenheit values we have in the data file. You can continue working with the same DataFrame that you used in Problem 1.\n",
        "\n",
        "**Your score on this problem will be based on following criteria:**\n",
        "\n",
        "- Calculating the monthly average temperatures in degrees Celsius for the each month in the dataset (i.e., for each month of each year)\n",
        "    - You should store the monthly average temperatures in a new Pandas DataFrame called `monthly_data`\n",
        "    - `monthly_data` should contain a new column called `temp_celsius` the monthly average temperatures in Celsius\n",
        "    - Convert the `TAVG` values in Fahrenheit into Celsius and store the output in the `temp_celsius`\n",
        "- Including comments that explain what most lines in the code do\n",
        "- Uploading your notebook to your GitHub repository for this week's exercise\n",
        "\n",
        "*Hint: you can start by creating a new column with a label for each month and then continue grouping the data based on this information.*"
      ]
    },
    {
      "cell_type": "code",
      "metadata": {
        "id": "UpTRzczQA75f",
        "outputId": "cbbd5516-a6ad-464f-afbb-cf05141d3702",
        "colab": {
          "base_uri": "https://localhost:8080/"
        }
      },
      "source": [
        "data['YR_MO'] = pd.to_datetime(data['DATE'], format= '%Y%m', exact= False)\n",
        "print(data['YR_MO'])"
      ],
      "execution_count": 37,
      "outputs": [
        {
          "output_type": "stream",
          "text": [
            "0       1952-01-01\n",
            "1       1952-01-01\n",
            "2       1952-01-01\n",
            "3       1952-01-01\n",
            "4       1952-01-01\n",
            "           ...    \n",
            "23711   2017-09-01\n",
            "23712   2017-10-01\n",
            "23713   2017-10-01\n",
            "23714   2017-10-01\n",
            "23715   2017-10-01\n",
            "Name: YR_MO, Length: 23716, dtype: datetime64[ns]\n"
          ],
          "name": "stdout"
        }
      ]
    },
    {
      "cell_type": "code",
      "metadata": {
        "id": "CxjmMvLdEdK4"
      },
      "source": [
        "def fahr_to_celsius(temp_fahrenheit):\n",
        "    \"\"\"Function to convert Fahrenheit temperature into Celsius.\n",
        "\n",
        "    Parameters\n",
        "    ----------\n",
        "\n",
        "    temp_fahrenheit: int | float\n",
        "        Input temperature in Fahrenheit (should be a number)\n",
        "        \n",
        "    Returns\n",
        "    -------\n",
        "    \n",
        "    Temperature in Celsius (float)\n",
        "    \"\"\"\n",
        "\n",
        "    # Convert the Fahrenheit into Celsius\n",
        "    converted_temp = (temp_fahrenheit - 32) / 1.8\n",
        "    \n",
        "    return converted_temp"
      ],
      "execution_count": 42,
      "outputs": []
    },
    {
      "cell_type": "code",
      "metadata": {
        "deletable": false,
        "nbgrader": {
          "cell_type": "code",
          "checksum": "93cb22923be0abe8ef7ac94da39696e4",
          "grade": false,
          "grade_id": "problem_2_ag_p1_monthly_averages",
          "locked": false,
          "schema_version": 3,
          "solution": true
        },
        "colab": {
          "base_uri": "https://localhost:8080/"
        },
        "id": "FlVMi3dY8RvE",
        "outputId": "b9e2fd8f-965c-4fca-e454-c5150c776dde"
      },
      "source": [
        "monthly_data = data.groupby('YR_MO').mean()\n",
        "print(monthly_data.head())\n",
        "\n",
        "monthly_data['temp_celsius'] = fahr_to_celsius(monthly_data['TAVG'])"
      ],
      "execution_count": 43,
      "outputs": [
        {
          "output_type": "stream",
          "text": [
            "            ELEVATION  LATITUDE  LONGITUDE  ...       TAVG       TMAX       TMIN\n",
            "YR_MO                                       ...                                 \n",
            "1952-01-01       51.0   60.3269    24.9603  ...  29.478261  33.263158  27.545455\n",
            "1952-02-01       51.0   60.3269    24.9603  ...  24.800000  29.142857  17.761905\n",
            "1952-03-01       51.0   60.3269    24.9603  ...  13.807692  26.045455  -0.625000\n",
            "1952-04-01       51.0   60.3269    24.9603  ...  39.607143  49.920000  29.884615\n",
            "1952-05-01       51.0   60.3269    24.9603  ...  44.666667  53.304348  33.916667\n",
            "\n",
            "[5 rows x 8 columns]\n"
          ],
          "name": "stdout"
        }
      ]
    },
    {
      "cell_type": "code",
      "metadata": {
        "deletable": false,
        "editable": false,
        "nbgrader": {
          "cell_type": "code",
          "checksum": "c1f0bb2e971a3a08e19b7de4f65cf188",
          "grade": true,
          "grade_id": "problem_2_ag_p1_monthly_averages_test1",
          "locked": true,
          "points": 0.2,
          "schema_version": 3,
          "solution": false
        },
        "colab": {
          "base_uri": "https://localhost:8080/"
        },
        "id": "HgT8ekeA8RvF",
        "outputId": "e2bcbdf4-eea7-4d0b-a182-6efaa4c4d810"
      },
      "source": [
        "# This test print should print the length of variable monthly_data\n",
        "print(len(monthly_data))"
      ],
      "execution_count": 39,
      "outputs": [
        {
          "output_type": "stream",
          "text": [
            "790\n"
          ],
          "name": "stdout"
        }
      ]
    },
    {
      "cell_type": "code",
      "metadata": {
        "deletable": false,
        "editable": false,
        "nbgrader": {
          "cell_type": "code",
          "checksum": "eb3b7a2eda732af1359e23440d263d73",
          "grade": true,
          "grade_id": "problem_2_ag_p1_monthly_averages_test2",
          "locked": true,
          "points": 0.8,
          "schema_version": 3,
          "solution": false
        },
        "colab": {
          "base_uri": "https://localhost:8080/"
        },
        "id": "amQ2qS668RvF",
        "outputId": "3a28ec18-815c-4548-ae7e-92e5e8217932"
      },
      "source": [
        "# This test print should print the column names of monthly_data\n",
        "print(monthly_data.columns.values)"
      ],
      "execution_count": 40,
      "outputs": [
        {
          "output_type": "stream",
          "text": [
            "['ELEVATION' 'LATITUDE' 'LONGITUDE' 'DATE' 'PRCP' 'TAVG' 'TMAX' 'TMIN']\n"
          ],
          "name": "stdout"
        }
      ]
    },
    {
      "cell_type": "code",
      "metadata": {
        "deletable": false,
        "editable": false,
        "nbgrader": {
          "cell_type": "code",
          "checksum": "fea6bdb6e194e4371f229a4aee191e40",
          "grade": true,
          "grade_id": "problem_2_ag_p1_monthly_averages_test3",
          "locked": true,
          "points": 1,
          "schema_version": 3,
          "solution": false
        },
        "colab": {
          "base_uri": "https://localhost:8080/"
        },
        "id": "9nijx7W08RvF",
        "outputId": "594e6846-b7da-47a0-ea57-3d56933c20cd"
      },
      "source": [
        "# This test print should print the mean of temp_celsius\n",
        "print(monthly_data['temp_celsius'].mean())"
      ],
      "execution_count": 46,
      "outputs": [
        {
          "output_type": "stream",
          "text": [
            "5.097114347669993\n"
          ],
          "name": "stdout"
        }
      ]
    },
    {
      "cell_type": "code",
      "metadata": {
        "deletable": false,
        "editable": false,
        "nbgrader": {
          "cell_type": "code",
          "checksum": "99c2a66c0d510395f7ec8498b257ce2d",
          "grade": true,
          "grade_id": "problem_2_ag_p1_monthly_averages_test4",
          "locked": true,
          "points": 1,
          "schema_version": 3,
          "solution": false
        },
        "colab": {
          "base_uri": "https://localhost:8080/"
        },
        "id": "IljSu4-j8RvG",
        "outputId": "0addc629-976c-4c9c-923a-24d06256c4b1"
      },
      "source": [
        "# This test print should print the median of temp_celsius\n",
        "print(round(monthly_data['temp_celsius'].median(), 2))"
      ],
      "execution_count": 47,
      "outputs": [
        {
          "output_type": "stream",
          "text": [
            "4.73\n"
          ],
          "name": "stdout"
        }
      ]
    },
    {
      "cell_type": "markdown",
      "metadata": {
        "deletable": false,
        "editable": false,
        "nbgrader": {
          "cell_type": "markdown",
          "checksum": "359094a40992773d3cee2d0d778fda40",
          "grade": false,
          "grade_id": "cell-ccd31e45c30df3ec",
          "locked": true,
          "schema_version": 3,
          "solution": false
        },
        "id": "iZWv6nqy8RvH"
      },
      "source": [
        "## Problem 3 - Calculating temperature anomalies (*5 points*)\n",
        "\n",
        "Our goal in this problem is to calculate monthly temperature anomalies in order to see how temperatures have changed over time, relative to the observation period between 1952-1980. You can continue working with the same data that you used in Problems 1 and 2.\n",
        "\n",
        "**Your score on this problem will be based on following criteria:**\n",
        "\n",
        "### Part 1:\n",
        "\n",
        "- Calculating ***the mean temperature for each month over the period from 1952 up to and including 1980*** in a new DataFrame called `reference_temps`\n",
        "    - You should end up with 12 values, 1 mean temperature for each month during the time period (see example table below).\n",
        "    - The columns in the new DataFrame should be `month` and `ref_temp`\n",
        "    \n",
        "Your `reference_temps` dataframe should have the following structure: 1 value for each month of the year (12 total) and the values represent and average in the observation period 1952-1980. The `ref_temp` temperatures should be in degrees Celsius:\n",
        "   \n",
        "| month    | ref_temp         |\n",
        "|----------|------------------|\n",
        "| 01       | -5.838761        |\n",
        "| 02       | -7.064088        |\n",
        "| 03       | -3.874213        |\n",
        "| ...      | ...              |\n",
        "\n",
        "### Part 2:\n",
        "\n",
        "- Calculating **a temperature anomaly for every month** in the `monthly_data` DataFrame using the corresponding monthly average temperature for each of the 12 months:\n",
        "    - In order to achieve this you need to make **a table join** (see [hints for this week](https://geo-python.github.io/site/lessons/L5/exercise-6.html)) between `monthly_data` and `ref_temps` based on the month.\n",
        "    - Temperature anomaly is calculated as the difference between the temperature for a given month (`temp_celsius` column in `monthly_data`) and the corresponding monthly reference temperature (`ref_temp` column in`reference_temps`) \n",
        "    - Store the result in a new column `\"diff\"` \n",
        "    \n",
        "As the output of the table join and the calculation, you should have three new columns in the `monthly_data` DataFrame: \n",
        "1. `diff`: The temperature anomaly, i.e. the difference between the temperature for a given month (e.g., February 1960) and the average during the reference period (e.g., for February 1952-1980), \n",
        "2. `month`: The month for that row of observations\n",
        "3. `ref_temp`: The monthly reference temperature\n",
        "\n",
        "You should finally report which month had the greatest weather anomaly during the observed time period.\n",
        "\n",
        "Remember to include comments in your code and commit your changes using git."
      ]
    },
    {
      "cell_type": "code",
      "metadata": {
        "deletable": false,
        "nbgrader": {
          "cell_type": "code",
          "checksum": "3f5c3a018b5a15dde5f374da3bd811f4",
          "grade": false,
          "grade_id": "problem_3_ag_p1_temperature_anomaly",
          "locked": false,
          "schema_version": 3,
          "solution": true
        },
        "id": "XBSqJ7J-8RvI"
      },
      "source": [
        "# REPLACE THE ERROR BELOW WITH YOUR OWN CODE\n",
        "raise NotImplementedError()"
      ],
      "execution_count": null,
      "outputs": []
    },
    {
      "cell_type": "code",
      "metadata": {
        "deletable": false,
        "editable": false,
        "nbgrader": {
          "cell_type": "code",
          "checksum": "62c207f31e93d4acf7be882e988e402d",
          "grade": true,
          "grade_id": "problem_3_ag_p1_temperature_anomaly_test1",
          "locked": true,
          "points": 1,
          "schema_version": 3,
          "solution": false
        },
        "id": "1-eijFu58RvJ"
      },
      "source": [
        "# Check the monthly data:\n",
        "monthly_data.head()"
      ],
      "execution_count": null,
      "outputs": []
    },
    {
      "cell_type": "code",
      "metadata": {
        "deletable": false,
        "editable": false,
        "nbgrader": {
          "cell_type": "code",
          "checksum": "8cd77d3c5aa734cd67c966f6513c16c8",
          "grade": true,
          "grade_id": "problem_3_ag_p1_temperature_anomaly_test2",
          "locked": true,
          "points": 4,
          "schema_version": 3,
          "solution": false
        },
        "id": "WOVYHJKB8RvJ"
      },
      "source": [
        "# Print out desriptive statistics for the relevant columns:\n",
        "monthly_data[[\"temp_celsius\", \"ref_temp\", \"diff\"]].describe()"
      ],
      "execution_count": null,
      "outputs": []
    },
    {
      "cell_type": "markdown",
      "metadata": {
        "deletable": false,
        "editable": false,
        "nbgrader": {
          "cell_type": "markdown",
          "checksum": "0accf99bee8a7e68dab2b80c81205337",
          "grade": false,
          "grade_id": "cell-bf1e120de1e8386e",
          "locked": true,
          "schema_version": 3,
          "solution": false,
          "task": false
        },
        "id": "eBe8RPqP8RvJ"
      },
      "source": [
        "Remember also to find out which month had the greatest weather anomaly during the observed time period in comparison with the reference data (create a script that prints out the answer to the screen):"
      ]
    },
    {
      "cell_type": "code",
      "metadata": {
        "deletable": false,
        "nbgrader": {
          "cell_type": "code",
          "checksum": "4335a17427aa6a6ee264db98399cf660",
          "grade": true,
          "grade_id": "problem_3_mg_p2_extra_question",
          "locked": false,
          "points": 0,
          "schema_version": 3,
          "solution": true,
          "task": false
        },
        "id": "jJEi0yWn8RvK"
      },
      "source": [
        "# REPLACE THE ERROR BELOW WITH YOUR OWN CODE\n",
        "raise NotImplementedError()"
      ],
      "execution_count": null,
      "outputs": []
    },
    {
      "cell_type": "markdown",
      "metadata": {
        "deletable": false,
        "editable": false,
        "nbgrader": {
          "cell_type": "markdown",
          "checksum": "05d75271b13f8fd543895353efb8b61c",
          "grade": false,
          "grade_id": "cell-99d62d1b7e475fd6",
          "locked": true,
          "schema_version": 3,
          "solution": false
        },
        "id": "JAVsoaoq8RvK"
      },
      "source": [
        "### On to Problem 4 (*optional*)\n",
        "\n",
        "Now you can continue to the *optional* [Problem 4](Exercise-6-problem-4.ipynb)"
      ]
    }
  ]
}